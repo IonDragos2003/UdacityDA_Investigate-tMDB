{
 "cells": [
  {
   "cell_type": "markdown",
   "metadata": {},
   "source": [
    "# Investigating a dataset - Udacity's Nano Degree Program"
   ]
  },
  {
   "cell_type": "markdown",
   "metadata": {},
   "source": [
    "As part of the project, I have selected the curated movie database. I will try to clean, analyze, interpret and answer few questions for which the answer can be found within this particular dataset."
   ]
  },
  {
   "cell_type": "markdown",
   "metadata": {},
   "source": [
    "## Four step analysis\n",
    "- Introduction - getting the initial information about the dataset (number of NAs/0s, a snapshot of the initial statistics about the dataset etc.)\n",
    "- Data Cleaning - removing duplicate rows, removing movies with budget and/or revenue of 0 as we cannot infer any analysis on those\n",
    "- Data Analysis - trying to answer the questions posed below.\n",
    "- Conclusions"
   ]
  },
  {
   "cell_type": "markdown",
   "metadata": {},
   "source": [
    "Questions:\n",
    "- Which was the most profitable movie?\n",
    "- Which was the most profitable movie per genre? What about per year? \n",
    "- What year was the most profitable? Both in initial values and adjusted.\n",
    "- How does the top 10 most profitable movies change when using the adjusted revenues (they are adjusted for inflation as of 2010 dollars)\n",
    "- What are the main correlations between profits and other variables? Popularity, Director, Runtime, Genre, Production Company, Voting Rating? - including visuals\n",
    "- Is there a recipe for success? Based on the correlation findings, can we derive an approach to get a profitable movie?\n"
   ]
  },
  {
   "cell_type": "markdown",
   "metadata": {},
   "source": [
    "I will firstly import what I think the main libraries needed for this project. I will add more on the way as I see fit and the changes will be reflected as I go along."
   ]
  },
  {
   "cell_type": "markdown",
   "metadata": {},
   "source": [
    "### Introduction"
   ]
  },
  {
   "cell_type": "code",
   "execution_count": 22,
   "metadata": {},
   "outputs": [
    {
     "output_type": "stream",
     "name": "stderr",
     "text": "UsageError: Line magic function `%` not found.\n"
    }
   ],
   "source": [
    "import pandas as pd\n",
    "import numpy as np\n",
    "import matplotlib.pyplot as plt\n",
    "% matplotlib inline # To have the graphs displayed insine the workbook\n",
    "import seaborn as sns"
   ]
  },
  {
   "cell_type": "code",
   "execution_count": 23,
   "metadata": {},
   "outputs": [],
   "source": [
    "df = pd.read_csv('tmdb-movies.csv') # Reading the data from a csv file using the pandas functionality"
   ]
  },
  {
   "cell_type": "code",
   "execution_count": 24,
   "metadata": {},
   "outputs": [
    {
     "output_type": "execute_result",
     "data": {
      "text/plain": "(10866, 21)"
     },
     "metadata": {},
     "execution_count": 24
    }
   ],
   "source": [
    "df.shape # 10866 rows by 21 columns"
   ]
  },
  {
   "cell_type": "code",
   "execution_count": 25,
   "metadata": {},
   "outputs": [
    {
     "output_type": "execute_result",
     "data": {
      "text/plain": "       id    imdb_id  popularity     budget     revenue  original_title  \\\n0  135397  tt0369610   32.985763  150000000  1513528810  Jurassic World   \n\n                                                cast  \\\n0  Chris Pratt|Bryce Dallas Howard|Irrfan Khan|Vi...   \n\n                        homepage         director            tagline  ...  \\\n0  http://www.jurassicworld.com/  Colin Trevorrow  The park is open.  ...   \n\n                                            overview runtime  \\\n0  Twenty-two years after the events of Jurassic ...     124   \n\n                                      genres  \\\n0  Action|Adventure|Science Fiction|Thriller   \n\n                                production_companies release_date vote_count  \\\n0  Universal Studios|Amblin Entertainment|Legenda...       6/9/15       5562   \n\n   vote_average  release_year    budget_adj   revenue_adj  \n0           6.5          2015  1.379999e+08  1.392446e+09  \n\n[1 rows x 21 columns]",
      "text/html": "<div>\n<style scoped>\n    .dataframe tbody tr th:only-of-type {\n        vertical-align: middle;\n    }\n\n    .dataframe tbody tr th {\n        vertical-align: top;\n    }\n\n    .dataframe thead th {\n        text-align: right;\n    }\n</style>\n<table border=\"1\" class=\"dataframe\">\n  <thead>\n    <tr style=\"text-align: right;\">\n      <th></th>\n      <th>id</th>\n      <th>imdb_id</th>\n      <th>popularity</th>\n      <th>budget</th>\n      <th>revenue</th>\n      <th>original_title</th>\n      <th>cast</th>\n      <th>homepage</th>\n      <th>director</th>\n      <th>tagline</th>\n      <th>...</th>\n      <th>overview</th>\n      <th>runtime</th>\n      <th>genres</th>\n      <th>production_companies</th>\n      <th>release_date</th>\n      <th>vote_count</th>\n      <th>vote_average</th>\n      <th>release_year</th>\n      <th>budget_adj</th>\n      <th>revenue_adj</th>\n    </tr>\n  </thead>\n  <tbody>\n    <tr>\n      <th>0</th>\n      <td>135397</td>\n      <td>tt0369610</td>\n      <td>32.985763</td>\n      <td>150000000</td>\n      <td>1513528810</td>\n      <td>Jurassic World</td>\n      <td>Chris Pratt|Bryce Dallas Howard|Irrfan Khan|Vi...</td>\n      <td>http://www.jurassicworld.com/</td>\n      <td>Colin Trevorrow</td>\n      <td>The park is open.</td>\n      <td>...</td>\n      <td>Twenty-two years after the events of Jurassic ...</td>\n      <td>124</td>\n      <td>Action|Adventure|Science Fiction|Thriller</td>\n      <td>Universal Studios|Amblin Entertainment|Legenda...</td>\n      <td>6/9/15</td>\n      <td>5562</td>\n      <td>6.5</td>\n      <td>2015</td>\n      <td>1.379999e+08</td>\n      <td>1.392446e+09</td>\n    </tr>\n  </tbody>\n</table>\n<p>1 rows × 21 columns</p>\n</div>"
     },
     "metadata": {},
     "execution_count": 25
    }
   ],
   "source": [
    "df.head(1) # In order to see the first snapshot of the data"
   ]
  },
  {
   "cell_type": "code",
   "execution_count": 26,
   "metadata": {},
   "outputs": [
    {
     "output_type": "stream",
     "name": "stdout",
     "text": "<class 'pandas.core.frame.DataFrame'>\nRangeIndex: 10866 entries, 0 to 10865\nData columns (total 21 columns):\nid                      10866 non-null int64\nimdb_id                 10856 non-null object\npopularity              10866 non-null float64\nbudget                  10866 non-null int64\nrevenue                 10866 non-null int64\noriginal_title          10866 non-null object\ncast                    10790 non-null object\nhomepage                2936 non-null object\ndirector                10822 non-null object\ntagline                 8042 non-null object\nkeywords                9373 non-null object\noverview                10862 non-null object\nruntime                 10866 non-null int64\ngenres                  10843 non-null object\nproduction_companies    9836 non-null object\nrelease_date            10866 non-null object\nvote_count              10866 non-null int64\nvote_average            10866 non-null float64\nrelease_year            10866 non-null int64\nbudget_adj              10866 non-null float64\nrevenue_adj             10866 non-null float64\ndtypes: float64(4), int64(6), object(11)\nmemory usage: 1.7+ MB\n"
    }
   ],
   "source": [
    "df.info() # Concise summary of type of values in the columns and how many"
   ]
  },
  {
   "cell_type": "code",
   "execution_count": 27,
   "metadata": {},
   "outputs": [
    {
     "output_type": "execute_result",
     "data": {
      "text/plain": "                  id    popularity        budget       revenue       runtime  \\\ncount   10866.000000  10866.000000  1.086600e+04  1.086600e+04  10866.000000   \nmean    66064.177434      0.646441  1.462570e+07  3.982332e+07    102.070863   \nstd     92130.136561      1.000185  3.091321e+07  1.170035e+08     31.381405   \nmin         5.000000      0.000065  0.000000e+00  0.000000e+00      0.000000   \n25%     10596.250000      0.207583  0.000000e+00  0.000000e+00     90.000000   \n50%     20669.000000      0.383856  0.000000e+00  0.000000e+00     99.000000   \n75%     75610.000000      0.713817  1.500000e+07  2.400000e+07    111.000000   \nmax    417859.000000     32.985763  4.250000e+08  2.781506e+09    900.000000   \n\n         vote_count  vote_average  release_year    budget_adj   revenue_adj  \ncount  10866.000000  10866.000000  10866.000000  1.086600e+04  1.086600e+04  \nmean     217.389748      5.974922   2001.322658  1.755104e+07  5.136436e+07  \nstd      575.619058      0.935142     12.812941  3.430616e+07  1.446325e+08  \nmin       10.000000      1.500000   1960.000000  0.000000e+00  0.000000e+00  \n25%       17.000000      5.400000   1995.000000  0.000000e+00  0.000000e+00  \n50%       38.000000      6.000000   2006.000000  0.000000e+00  0.000000e+00  \n75%      145.750000      6.600000   2011.000000  2.085325e+07  3.369710e+07  \nmax     9767.000000      9.200000   2015.000000  4.250000e+08  2.827124e+09  ",
      "text/html": "<div>\n<style scoped>\n    .dataframe tbody tr th:only-of-type {\n        vertical-align: middle;\n    }\n\n    .dataframe tbody tr th {\n        vertical-align: top;\n    }\n\n    .dataframe thead th {\n        text-align: right;\n    }\n</style>\n<table border=\"1\" class=\"dataframe\">\n  <thead>\n    <tr style=\"text-align: right;\">\n      <th></th>\n      <th>id</th>\n      <th>popularity</th>\n      <th>budget</th>\n      <th>revenue</th>\n      <th>runtime</th>\n      <th>vote_count</th>\n      <th>vote_average</th>\n      <th>release_year</th>\n      <th>budget_adj</th>\n      <th>revenue_adj</th>\n    </tr>\n  </thead>\n  <tbody>\n    <tr>\n      <th>count</th>\n      <td>10866.000000</td>\n      <td>10866.000000</td>\n      <td>1.086600e+04</td>\n      <td>1.086600e+04</td>\n      <td>10866.000000</td>\n      <td>10866.000000</td>\n      <td>10866.000000</td>\n      <td>10866.000000</td>\n      <td>1.086600e+04</td>\n      <td>1.086600e+04</td>\n    </tr>\n    <tr>\n      <th>mean</th>\n      <td>66064.177434</td>\n      <td>0.646441</td>\n      <td>1.462570e+07</td>\n      <td>3.982332e+07</td>\n      <td>102.070863</td>\n      <td>217.389748</td>\n      <td>5.974922</td>\n      <td>2001.322658</td>\n      <td>1.755104e+07</td>\n      <td>5.136436e+07</td>\n    </tr>\n    <tr>\n      <th>std</th>\n      <td>92130.136561</td>\n      <td>1.000185</td>\n      <td>3.091321e+07</td>\n      <td>1.170035e+08</td>\n      <td>31.381405</td>\n      <td>575.619058</td>\n      <td>0.935142</td>\n      <td>12.812941</td>\n      <td>3.430616e+07</td>\n      <td>1.446325e+08</td>\n    </tr>\n    <tr>\n      <th>min</th>\n      <td>5.000000</td>\n      <td>0.000065</td>\n      <td>0.000000e+00</td>\n      <td>0.000000e+00</td>\n      <td>0.000000</td>\n      <td>10.000000</td>\n      <td>1.500000</td>\n      <td>1960.000000</td>\n      <td>0.000000e+00</td>\n      <td>0.000000e+00</td>\n    </tr>\n    <tr>\n      <th>25%</th>\n      <td>10596.250000</td>\n      <td>0.207583</td>\n      <td>0.000000e+00</td>\n      <td>0.000000e+00</td>\n      <td>90.000000</td>\n      <td>17.000000</td>\n      <td>5.400000</td>\n      <td>1995.000000</td>\n      <td>0.000000e+00</td>\n      <td>0.000000e+00</td>\n    </tr>\n    <tr>\n      <th>50%</th>\n      <td>20669.000000</td>\n      <td>0.383856</td>\n      <td>0.000000e+00</td>\n      <td>0.000000e+00</td>\n      <td>99.000000</td>\n      <td>38.000000</td>\n      <td>6.000000</td>\n      <td>2006.000000</td>\n      <td>0.000000e+00</td>\n      <td>0.000000e+00</td>\n    </tr>\n    <tr>\n      <th>75%</th>\n      <td>75610.000000</td>\n      <td>0.713817</td>\n      <td>1.500000e+07</td>\n      <td>2.400000e+07</td>\n      <td>111.000000</td>\n      <td>145.750000</td>\n      <td>6.600000</td>\n      <td>2011.000000</td>\n      <td>2.085325e+07</td>\n      <td>3.369710e+07</td>\n    </tr>\n    <tr>\n      <th>max</th>\n      <td>417859.000000</td>\n      <td>32.985763</td>\n      <td>4.250000e+08</td>\n      <td>2.781506e+09</td>\n      <td>900.000000</td>\n      <td>9767.000000</td>\n      <td>9.200000</td>\n      <td>2015.000000</td>\n      <td>4.250000e+08</td>\n      <td>2.827124e+09</td>\n    </tr>\n  </tbody>\n</table>\n</div>"
     },
     "metadata": {},
     "execution_count": 27
    }
   ],
   "source": [
    "df.describe() # Initial snapshot of statistics about the data"
   ]
  },
  {
   "cell_type": "markdown",
   "metadata": {},
   "source": [
    "There seems to be 0 values for budget, revenue, runtime, budj adj and rev adj. Let's see how many."
   ]
  },
  {
   "cell_type": "code",
   "execution_count": 28,
   "metadata": {},
   "outputs": [
    {
     "output_type": "execute_result",
     "data": {
      "text/plain": "id                         0\nimdb_id                   10\npopularity                 0\nbudget                     0\nrevenue                    0\noriginal_title             0\ncast                      76\nhomepage                7930\ndirector                  44\ntagline                 2824\nkeywords                1493\noverview                   4\nruntime                    0\ngenres                    23\nproduction_companies    1030\nrelease_date               0\nvote_count                 0\nvote_average               0\nrelease_year               0\nbudget_adj                 0\nrevenue_adj                0\ndtype: int64"
     },
     "metadata": {},
     "execution_count": 28
    }
   ],
   "source": [
    "df.isna().sum()"
   ]
  },
  {
   "cell_type": "code",
   "execution_count": 31,
   "metadata": {},
   "outputs": [],
   "source": [
    "df.fillna(0, inplace=True)"
   ]
  },
  {
   "cell_type": "code",
   "execution_count": 34,
   "metadata": {},
   "outputs": [
    {
     "output_type": "execute_result",
     "data": {
      "text/plain": "id                      0\nimdb_id                 0\npopularity              0\nbudget                  0\nrevenue                 0\noriginal_title          0\ncast                    0\nhomepage                0\ndirector                0\ntagline                 0\nkeywords                0\noverview                0\nruntime                 0\ngenres                  0\nproduction_companies    0\nrelease_date            0\nvote_count              0\nvote_average            0\nrelease_year            0\nbudget_adj              0\nrevenue_adj             0\ndtype: int64"
     },
     "metadata": {},
     "execution_count": 34
    }
   ],
   "source": [
    "df.isna().sum() # Expected result"
   ]
  },
  {
   "cell_type": "markdown",
   "metadata": {},
   "source": [
    "### Data Cleaning \n",
    "- Remove any duplicated rows\n",
    "- Remove movies with budget and/or revenue of 0\n",
    "- Remove irrelevant columns"
   ]
  },
  {
   "cell_type": "code",
   "execution_count": 38,
   "metadata": {},
   "outputs": [
    {
     "output_type": "execute_result",
     "data": {
      "text/plain": "1"
     },
     "metadata": {},
     "execution_count": 38
    }
   ],
   "source": [
    "len(df) - len(df.drop_duplicates()) # Drop duplicates will return the value after dropping any duplicated rows. This way we can the number of dupes"
   ]
  },
  {
   "cell_type": "code",
   "execution_count": 47,
   "metadata": {},
   "outputs": [
    {
     "output_type": "stream",
     "name": "stdout",
     "text": "After removing the duplicated rows, we should expect 10865 rows and 21 columns\n"
    }
   ],
   "source": [
    "df.drop_duplicates(inplace=True)\n",
    "print ('After removing the duplicated rows, we should expect ' + str(df.shape[0]) + ' rows and ' + str(df.shape[1]) + ' columns')"
   ]
  },
  {
   "cell_type": "code",
   "execution_count": 48,
   "metadata": {},
   "outputs": [],
   "source": [
    "df.drop(['imdb_id', 'homepage', 'tagline', 'keywords', 'overview',], axis = 1, inplace=True) # Dropping few columns that I find irrelevant to the analysis "
   ]
  },
  {
   "cell_type": "code",
   "execution_count": 50,
   "metadata": {},
   "outputs": [
    {
     "output_type": "stream",
     "name": "stdout",
     "text": "<class 'pandas.core.frame.DataFrame'>\nInt64Index: 10865 entries, 0 to 10865\nData columns (total 16 columns):\nid                      10865 non-null int64\npopularity              10865 non-null float64\nbudget                  10865 non-null int64\nrevenue                 10865 non-null int64\noriginal_title          10865 non-null object\ncast                    10865 non-null object\ndirector                10865 non-null object\nruntime                 10865 non-null int64\ngenres                  10865 non-null object\nproduction_companies    10865 non-null object\nrelease_date            10865 non-null object\nvote_count              10865 non-null int64\nvote_average            10865 non-null float64\nrelease_year            10865 non-null int64\nbudget_adj              10865 non-null float64\nrevenue_adj             10865 non-null float64\ndtypes: float64(4), int64(6), object(6)\nmemory usage: 1.7+ MB\n"
    }
   ],
   "source": [
    "df.info() # As expected"
   ]
  },
  {
   "cell_type": "code",
   "execution_count": null,
   "metadata": {},
   "outputs": [],
   "source": []
  }
 ],
 "metadata": {
  "language_info": {
   "codemirror_mode": {
    "name": "ipython",
    "version": 3
   },
   "file_extension": ".py",
   "mimetype": "text/x-python",
   "name": "python",
   "nbconvert_exporter": "python",
   "pygments_lexer": "ipython3",
   "version": "3.7.3-final"
  },
  "orig_nbformat": 2,
  "kernelspec": {
   "name": "python37364bit1de02bf8a3734c92871851aef3d72b3b",
   "display_name": "Python 3.7.3 64-bit"
  }
 },
 "nbformat": 4,
 "nbformat_minor": 2
}