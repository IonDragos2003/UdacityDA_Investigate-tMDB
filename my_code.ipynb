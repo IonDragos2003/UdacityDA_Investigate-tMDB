{
 "cells": [
  {
   "cell_type": "markdown",
   "metadata": {},
   "source": [
    "# Investigating a dataset - Udacity's Nano Degree Program"
   ]
  },
  {
   "cell_type": "markdown",
   "metadata": {},
   "source": [
    "As part of the project, I have selected the curated movie database. I will try to clean, analyze, interpret and answer few questions for which the answer can be found within this particular dataset."
   ]
  },
  {
   "cell_type": "markdown",
   "metadata": {},
   "source": [
    "I will firstly import what I think the main libraries needed for this project. I will add more on the way as I see fit and the changes will be reflected as I go along."
   ]
  },
  {
   "cell_type": "code",
   "execution_count": 7,
   "metadata": {},
   "outputs": [
    {
     "output_type": "stream",
     "name": "stderr",
     "text": "UsageError: Line magic function `%` not found.\n"
    }
   ],
   "source": [
    "import pandas as pd\n",
    "import numpy as np\n",
    "import matplotlib.pyplot as plt\n",
    "% matplotlib inline # To have the graphs displayed insine the workbook\n",
    "import seaborn as sns"
   ]
  },
  {
   "cell_type": "code",
   "execution_count": 8,
   "metadata": {},
   "outputs": [],
   "source": [
    "df = pd.read_csv('tmdb-movies.csv') # Reading the data from a csv file using the pandas functionality"
   ]
  },
  {
   "cell_type": "code",
   "execution_count": 45,
   "metadata": {},
   "outputs": [
    {
     "output_type": "execute_result",
     "data": {
      "text/plain": "       id  popularity     budget     revenue  original_title  \\\n0  135397   32.985763  150000000  1513528810  Jurassic World   \n\n                                                cast  \\\n0  Chris Pratt|Bryce Dallas Howard|Irrfan Khan|Vi...   \n\n                        homepage         director            tagline  \\\n0  http://www.jurassicworld.com/  Colin Trevorrow  The park is open.   \n\n                                            keywords  \\\n0  monster|dna|tyrannosaurus rex|velociraptor|island   \n\n                                            overview  runtime  \\\n0  Twenty-two years after the events of Jurassic ...      124   \n\n                                      genres  \\\n0  Action|Adventure|Science Fiction|Thriller   \n\n                                production_companies release_date  vote_count  \\\n0  Universal Studios|Amblin Entertainment|Legenda...       6/9/15        5562   \n\n   vote_average  release_year    budget_adj   revenue_adj  \n0           6.5          2015  1.379999e+08  1.392446e+09  ",
      "text/html": "<div>\n<style scoped>\n    .dataframe tbody tr th:only-of-type {\n        vertical-align: middle;\n    }\n\n    .dataframe tbody tr th {\n        vertical-align: top;\n    }\n\n    .dataframe thead th {\n        text-align: right;\n    }\n</style>\n<table border=\"1\" class=\"dataframe\">\n  <thead>\n    <tr style=\"text-align: right;\">\n      <th></th>\n      <th>id</th>\n      <th>popularity</th>\n      <th>budget</th>\n      <th>revenue</th>\n      <th>original_title</th>\n      <th>cast</th>\n      <th>homepage</th>\n      <th>director</th>\n      <th>tagline</th>\n      <th>keywords</th>\n      <th>overview</th>\n      <th>runtime</th>\n      <th>genres</th>\n      <th>production_companies</th>\n      <th>release_date</th>\n      <th>vote_count</th>\n      <th>vote_average</th>\n      <th>release_year</th>\n      <th>budget_adj</th>\n      <th>revenue_adj</th>\n    </tr>\n  </thead>\n  <tbody>\n    <tr>\n      <th>0</th>\n      <td>135397</td>\n      <td>32.985763</td>\n      <td>150000000</td>\n      <td>1513528810</td>\n      <td>Jurassic World</td>\n      <td>Chris Pratt|Bryce Dallas Howard|Irrfan Khan|Vi...</td>\n      <td>http://www.jurassicworld.com/</td>\n      <td>Colin Trevorrow</td>\n      <td>The park is open.</td>\n      <td>monster|dna|tyrannosaurus rex|velociraptor|island</td>\n      <td>Twenty-two years after the events of Jurassic ...</td>\n      <td>124</td>\n      <td>Action|Adventure|Science Fiction|Thriller</td>\n      <td>Universal Studios|Amblin Entertainment|Legenda...</td>\n      <td>6/9/15</td>\n      <td>5562</td>\n      <td>6.5</td>\n      <td>2015</td>\n      <td>1.379999e+08</td>\n      <td>1.392446e+09</td>\n    </tr>\n  </tbody>\n</table>\n</div>"
     },
     "metadata": {},
     "execution_count": 45
    }
   ],
   "source": [
    "df.head(1) # In order to see the first snapshot of the data"
   ]
  },
  {
   "cell_type": "code",
   "execution_count": 16,
   "metadata": {},
   "outputs": [],
   "source": [
    "df.drop(['imdb_id'], axis = 1, inplace=True)"
   ]
  },
  {
   "cell_type": "markdown",
   "metadata": {},
   "source": [
    "Potential questions:\n",
    "    1. What movies had the biggest profit (initial and adjusted)\n",
    "    2. Is there a clear correlation between popularity and revenue?\n",
    "    3. Is there a correlation between revenue and vote average? What about the vote count? Are there any outliers there that might impact the vote average for a film?\n",
    "    4. How has the average revenue been increased in the movie industry over time? What about the profits? Have they increased or shriken as time? \n",
    "    5. Are there outliers in terms of unpopular movies scoring great voting and/or great profits?\n",
    "    6. How does the director affect popularity, vote average, profits? What about over time?\n",
    "    7. Can we get a count of movie stars and see how they impact the results of a movie they star in? What about a very popular and a very unpopular actor/actress together?\n",
    "    8. Can we use machine learning to group the descriptions of the movies, to derive main themes? What about from the title? Are these any kind related?\n",
    "    9. Is there a recipe for a big profit movie? Director + actors + popularity?\n",
    "    10. Does the production company impact the cast? Assuming biggest stars are requiring a higher budget? What about the movie popularity?"
   ]
  }
 ],
 "metadata": {
  "language_info": {
   "codemirror_mode": {
    "name": "ipython",
    "version": 3
   },
   "file_extension": ".py",
   "mimetype": "text/x-python",
   "name": "python",
   "nbconvert_exporter": "python",
   "pygments_lexer": "ipython3",
   "version": "3.7.3-final"
  },
  "orig_nbformat": 2,
  "kernelspec": {
   "name": "python37364bit1de02bf8a3734c92871851aef3d72b3b",
   "display_name": "Python 3.7.3 64-bit"
  }
 },
 "nbformat": 4,
 "nbformat_minor": 2
}